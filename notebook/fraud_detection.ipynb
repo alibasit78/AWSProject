{
 "cells": [
  {
   "cell_type": "code",
   "execution_count": 1,
   "metadata": {},
   "outputs": [],
   "source": [
    "import os\n",
    "import boto3\n",
    "import traceback\n",
    "import json\n",
    "import sys"
   ]
  },
  {
   "cell_type": "code",
   "execution_count": 5,
   "metadata": {},
   "outputs": [],
   "source": [
    "s3_resource = boto3.resource(\n",
    "                \"s3\",\n",
    "                aws_access_key_id=\"AWS_ACCESS_KEY\",\n",
    "                aws_secret_access_key=\"AWS_SECRET_ACCESS_KEY\",\n",
    "                region_name=\"REGION_NAME\",\n",
    "            )"
   ]
  },
  {
   "cell_type": "code",
   "execution_count": 2,
   "metadata": {},
   "outputs": [],
   "source": [
    "bucket_name = 'BUCKET_NAME'"
   ]
  },
  {
   "cell_type": "code",
   "execution_count": null,
   "metadata": {},
   "outputs": [],
   "source": [
    "objs = [obj for obj in s3_resource.Bucket(bucket_name).objects.all()]\n",
    "objs"
   ]
  },
  {
   "cell_type": "code",
   "execution_count": null,
   "metadata": {},
   "outputs": [],
   "source": [
    "# Downloading zip file from s3\n",
    "tmp_file_path = 'artifact/cc.csv'\n",
    "s3_obj = s3_resource.Object(bucket_name, key=\"creditcard.csv\")\n",
    "s3_obj.download_file(tmp_file_path)"
   ]
  },
  {
   "cell_type": "code",
   "execution_count": 8,
   "metadata": {},
   "outputs": [],
   "source": [
    "def download_file_from_s3(local_file_path, bucket_name, file_name):\n",
    "        # Downloading zip file from s3\n",
    "        try:\n",
    "            s3_obj = s3_resource.Object(bucket_name, key=file_name)\n",
    "            print(\"s3_obj created\", s3_obj)\n",
    "            # print(os.path.join(local_file_path, file_name))\n",
    "            s3_obj.download_file(local_file_path)\n",
    "        except Exception as e:\n",
    "            print(\"Unable to dowload the file from s3\")\n",
    "            print(e)"
   ]
  },
  {
   "cell_type": "code",
   "execution_count": null,
   "metadata": {},
   "outputs": [],
   "source": [
    "download_file_from_s3(local_file_path='artifact/data_ingestion/cc.csv', bucket_name=bucket_name, file_name='creditcard.csv')"
   ]
  },
  {
   "cell_type": "code",
   "execution_count": null,
   "metadata": {},
   "outputs": [],
   "source": [
    "from fraud_detection.aws_service import AWSService\n",
    "aws_service = AWSService()\n",
    "aws_service.download_file_from_s3(local_file_path='artifact/data_ingestion/cc.csv', bucket_name=bucket_name, file_name='creditcard.csv')"
   ]
  },
  {
   "cell_type": "code",
   "execution_count": 24,
   "metadata": {},
   "outputs": [],
   "source": [
    "# Uploading zip file from local to s3\n",
    "s3_resource.Bucket(bucket_name).upload_file(Filename = \"../artifact/cc.zip\", Key = \"cc.zip\")"
   ]
  },
  {
   "cell_type": "code",
   "execution_count": 12,
   "metadata": {},
   "outputs": [],
   "source": [
    "# Set temp file path\n",
    "\n",
    "\n",
    "# Set unzipped output path\n",
    "unzip_path = 'unzipped/'\n",
    "\n",
    "# Download file function\n",
    "def download_file(bucket, key):\n",
    "    \n",
    "    # Create S3 resource object\n",
    "    s3_object = s3_resource.Object(bucket, key)\n",
    "\n",
    "    # Download file to /tmp\n",
    "    try:\n",
    "        print(\"Downloading file to /tmp...\")\n",
    "        s3_object.download_file(tmp_file_path)\n",
    "        print(\"Download complete.\")\n",
    "    except Exception as e:\n",
    "        exception_type, exception_value, exception_traceback = sys.exc_info()\n",
    "        traceback_string = traceback.format_exception(exception_type, exception_value, exception_traceback)\n",
    "        err_msg = json.dumps({\n",
    "            \"errorType\": exception_type.__name__,\n",
    "            \"errorMessage\": str(exception_value),\n",
    "            \"stackTrace\": traceback_string\n",
    "        })\n",
    "        print(err_msg)\n",
    "        \n",
    "    # List zipped contents of /tmp\n",
    "    print(\"Zipped contents of /tmp directory:\")\n",
    "    for file in os.listdir(\"artifact\"):\n",
    "        print(os.path.join(f\"/tmp{file}\"))"
   ]
  },
  {
   "cell_type": "code",
   "execution_count": null,
   "metadata": {},
   "outputs": [],
   "source": [
    "!unzip ../artifact/creditcard.1csv.zip "
   ]
  },
  {
   "cell_type": "code",
   "execution_count": null,
   "metadata": {},
   "outputs": [],
   "source": [
    "import os\n",
    "\n",
    "path = \"artifact/train/model.pkl\"\n",
    "os.path.dirname(path)"
   ]
  },
  {
   "cell_type": "code",
   "execution_count": null,
   "metadata": {},
   "outputs": [],
   "source": []
  }
 ],
 "metadata": {
  "kernelspec": {
   "display_name": "Python 3",
   "language": "python",
   "name": "python3"
  },
  "language_info": {
   "codemirror_mode": {
    "name": "ipython",
    "version": 3
   },
   "file_extension": ".py",
   "mimetype": "text/x-python",
   "name": "python",
   "nbconvert_exporter": "python",
   "pygments_lexer": "ipython3",
   "version": "3.8.19"
  }
 },
 "nbformat": 4,
 "nbformat_minor": 2
}
